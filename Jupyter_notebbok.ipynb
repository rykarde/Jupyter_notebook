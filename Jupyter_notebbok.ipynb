{
  "metadata": {
    "language_info": {
      "codemirror_mode": {
        "name": "python",
        "version": 3
      },
      "file_extension": ".py",
      "mimetype": "text/x-python",
      "name": "python",
      "nbconvert_exporter": "python",
      "pygments_lexer": "ipython3",
      "version": "3.8"
    },
    "kernelspec": {
      "name": "python",
      "display_name": "Python (Pyodide)",
      "language": "python"
    }
  },
  "nbformat_minor": 4,
  "nbformat": 4,
  "cells": [
    {
      "cell_type": "markdown",
      "source": "# My Jupyter Notebook on IBM Watson Studio",
      "metadata": {}
    },
    {
      "cell_type": "markdown",
      "source": "**RICARDO MIGUEL FERREIRA CORREIA**\n\nPortuguese Army",
      "metadata": {}
    },
    {
      "cell_type": "markdown",
      "source": "_I'm interested in data science because that is one of the first steps in creating AI models. My passion came from some lessons explaining its usage._",
      "metadata": {}
    },
    {
      "cell_type": "markdown",
      "source": "### In the line below is a multiplication between 3 and 6",
      "metadata": {}
    },
    {
      "cell_type": "code",
      "source": "3 * 6",
      "metadata": {
        "trusted": true
      },
      "execution_count": 3,
      "outputs": [
        {
          "execution_count": 3,
          "output_type": "execute_result",
          "data": {
            "text/plain": "18"
          },
          "metadata": {}
        }
      ]
    },
    {
      "cell_type": "markdown",
      "source": "[My Amazing pokemon collection](https://www.youtube.com/watch?v=dQw4w9WgXcQ&ab)\n- Scar\n- Glock\n- G3\n\n~~I'm wanna be the very best~~",
      "metadata": {}
    },
    {
      "cell_type": "code",
      "source": "",
      "metadata": {},
      "execution_count": null,
      "outputs": []
    }
  ]
}